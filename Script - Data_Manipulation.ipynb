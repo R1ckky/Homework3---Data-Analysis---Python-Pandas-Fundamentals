{
 "cells": [
  {
   "cell_type": "code",
   "execution_count": 25,
   "metadata": {},
   "outputs": [],
   "source": [
    "import pandas as pd\n",
    "import os \n",
    "import math"
   ]
  },
  {
   "cell_type": "code",
   "execution_count": 26,
   "metadata": {},
   "outputs": [],
   "source": [
    "pwd = os.getcwd()"
   ]
  },
  {
   "cell_type": "code",
   "execution_count": 27,
   "metadata": {},
   "outputs": [
    {
     "data": {
      "text/html": [
       "<div>\n",
       "<style scoped>\n",
       "    .dataframe tbody tr th:only-of-type {\n",
       "        vertical-align: middle;\n",
       "    }\n",
       "\n",
       "    .dataframe tbody tr th {\n",
       "        vertical-align: top;\n",
       "    }\n",
       "\n",
       "    .dataframe thead th {\n",
       "        text-align: right;\n",
       "    }\n",
       "</style>\n",
       "<table border=\"1\" class=\"dataframe\">\n",
       "  <thead>\n",
       "    <tr style=\"text-align: right;\">\n",
       "      <th></th>\n",
       "      <th>gender</th>\n",
       "      <th>race/ethnicity</th>\n",
       "      <th>parental level of education</th>\n",
       "      <th>lunch</th>\n",
       "      <th>test preparation course</th>\n",
       "      <th>math score</th>\n",
       "      <th>reading score</th>\n",
       "      <th>writing score</th>\n",
       "    </tr>\n",
       "  </thead>\n",
       "  <tbody>\n",
       "    <tr>\n",
       "      <th>0</th>\n",
       "      <td>female</td>\n",
       "      <td>group D</td>\n",
       "      <td>some college</td>\n",
       "      <td>standard</td>\n",
       "      <td>completed</td>\n",
       "      <td>59</td>\n",
       "      <td>70</td>\n",
       "      <td>78</td>\n",
       "    </tr>\n",
       "    <tr>\n",
       "      <th>1</th>\n",
       "      <td>male</td>\n",
       "      <td>group D</td>\n",
       "      <td>associate's degree</td>\n",
       "      <td>standard</td>\n",
       "      <td>none</td>\n",
       "      <td>96</td>\n",
       "      <td>93</td>\n",
       "      <td>87</td>\n",
       "    </tr>\n",
       "    <tr>\n",
       "      <th>2</th>\n",
       "      <td>female</td>\n",
       "      <td>group D</td>\n",
       "      <td>some college</td>\n",
       "      <td>free/reduced</td>\n",
       "      <td>none</td>\n",
       "      <td>57</td>\n",
       "      <td>76</td>\n",
       "      <td>77</td>\n",
       "    </tr>\n",
       "    <tr>\n",
       "      <th>3</th>\n",
       "      <td>male</td>\n",
       "      <td>group B</td>\n",
       "      <td>some college</td>\n",
       "      <td>free/reduced</td>\n",
       "      <td>none</td>\n",
       "      <td>70</td>\n",
       "      <td>70</td>\n",
       "      <td>63</td>\n",
       "    </tr>\n",
       "    <tr>\n",
       "      <th>4</th>\n",
       "      <td>female</td>\n",
       "      <td>group D</td>\n",
       "      <td>associate's degree</td>\n",
       "      <td>standard</td>\n",
       "      <td>none</td>\n",
       "      <td>83</td>\n",
       "      <td>85</td>\n",
       "      <td>86</td>\n",
       "    </tr>\n",
       "    <tr>\n",
       "      <th>...</th>\n",
       "      <td>...</td>\n",
       "      <td>...</td>\n",
       "      <td>...</td>\n",
       "      <td>...</td>\n",
       "      <td>...</td>\n",
       "      <td>...</td>\n",
       "      <td>...</td>\n",
       "      <td>...</td>\n",
       "    </tr>\n",
       "    <tr>\n",
       "      <th>995</th>\n",
       "      <td>male</td>\n",
       "      <td>group C</td>\n",
       "      <td>some college</td>\n",
       "      <td>standard</td>\n",
       "      <td>none</td>\n",
       "      <td>77</td>\n",
       "      <td>77</td>\n",
       "      <td>71</td>\n",
       "    </tr>\n",
       "    <tr>\n",
       "      <th>996</th>\n",
       "      <td>male</td>\n",
       "      <td>group C</td>\n",
       "      <td>some college</td>\n",
       "      <td>standard</td>\n",
       "      <td>none</td>\n",
       "      <td>80</td>\n",
       "      <td>66</td>\n",
       "      <td>66</td>\n",
       "    </tr>\n",
       "    <tr>\n",
       "      <th>997</th>\n",
       "      <td>female</td>\n",
       "      <td>group A</td>\n",
       "      <td>high school</td>\n",
       "      <td>standard</td>\n",
       "      <td>completed</td>\n",
       "      <td>67</td>\n",
       "      <td>86</td>\n",
       "      <td>86</td>\n",
       "    </tr>\n",
       "    <tr>\n",
       "      <th>998</th>\n",
       "      <td>male</td>\n",
       "      <td>group E</td>\n",
       "      <td>high school</td>\n",
       "      <td>standard</td>\n",
       "      <td>none</td>\n",
       "      <td>80</td>\n",
       "      <td>72</td>\n",
       "      <td>62</td>\n",
       "    </tr>\n",
       "    <tr>\n",
       "      <th>999</th>\n",
       "      <td>male</td>\n",
       "      <td>group D</td>\n",
       "      <td>high school</td>\n",
       "      <td>standard</td>\n",
       "      <td>none</td>\n",
       "      <td>58</td>\n",
       "      <td>47</td>\n",
       "      <td>45</td>\n",
       "    </tr>\n",
       "  </tbody>\n",
       "</table>\n",
       "<p>1000 rows × 8 columns</p>\n",
       "</div>"
      ],
      "text/plain": [
       "     gender race/ethnicity parental level of education         lunch   \n",
       "0    female        group D                some college      standard  \\\n",
       "1      male        group D          associate's degree      standard   \n",
       "2    female        group D                some college  free/reduced   \n",
       "3      male        group B                some college  free/reduced   \n",
       "4    female        group D          associate's degree      standard   \n",
       "..      ...            ...                         ...           ...   \n",
       "995    male        group C                some college      standard   \n",
       "996    male        group C                some college      standard   \n",
       "997  female        group A                 high school      standard   \n",
       "998    male        group E                 high school      standard   \n",
       "999    male        group D                 high school      standard   \n",
       "\n",
       "    test preparation course  math score  reading score  writing score  \n",
       "0                 completed          59             70             78  \n",
       "1                      none          96             93             87  \n",
       "2                      none          57             76             77  \n",
       "3                      none          70             70             63  \n",
       "4                      none          83             85             86  \n",
       "..                      ...         ...            ...            ...  \n",
       "995                    none          77             77             71  \n",
       "996                    none          80             66             66  \n",
       "997               completed          67             86             86  \n",
       "998                    none          80             72             62  \n",
       "999                    none          58             47             45  \n",
       "\n",
       "[1000 rows x 8 columns]"
      ]
     },
     "execution_count": 27,
     "metadata": {},
     "output_type": "execute_result"
    }
   ],
   "source": [
    "dataset = pd.read_excel(pwd + '/Data - Exams.xlsx')\n",
    "dataset"
   ]
  },
  {
   "cell_type": "code",
   "execution_count": 28,
   "metadata": {},
   "outputs": [
    {
     "data": {
      "text/plain": [
       "{615: 44, 807: 38, 343: 60, 385: 62, 585: 65}"
      ]
     },
     "execution_count": 28,
     "metadata": {},
     "output_type": "execute_result"
    }
   ],
   "source": [
    "# 12. Create a dictionary of 5 students and their grades.\n",
    "math_score_sample_dict = dataset.sample(5)['math score'].to_dict()\n",
    "math_score_sample_dict"
   ]
  },
  {
   "cell_type": "code",
   "execution_count": 29,
   "metadata": {},
   "outputs": [
    {
     "data": {
      "text/plain": [
       "67.81"
      ]
     },
     "execution_count": 29,
     "metadata": {},
     "output_type": "execute_result"
    }
   ],
   "source": [
    "#18. Find the average of a list of numbers using for loops.\n",
    "total_score = 0\n",
    "count = 0\n",
    "\n",
    "for score in dataset['math score']:\n",
    "\ttotal_score += score\n",
    "\tcount += 1\n",
    "\n",
    "average_math_score = total_score / count if count else 0\n",
    "\n",
    "average_math_score"
   ]
  },
  {
   "cell_type": "code",
   "execution_count": 30,
   "metadata": {},
   "outputs": [
    {
     "data": {
      "text/plain": [
       "[(615, 44), (807, 38), (343, 60), (385, 62), (585, 65)]"
      ]
     },
     "execution_count": 30,
     "metadata": {},
     "output_type": "execute_result"
    }
   ],
   "source": [
    "#41. Convert a dictionary into a list of tuples.\n",
    "math_score_sample_tuple = list(math_score_sample_dict.items())\n",
    "math_score_sample_tuple"
   ]
  },
  {
   "cell_type": "code",
   "execution_count": 31,
   "metadata": {},
   "outputs": [
    {
     "name": "stdout",
     "output_type": "stream",
     "text": [
      "96 | 96\n",
      "70 | 70\n",
      "68 | 68\n",
      "82 | 82\n",
      "46 | 46\n",
      "80 | 80\n",
      "74 | 74\n",
      "76 | 76\n",
      "70 | 70\n",
      "56 | 56\n",
      "80 | 80\n",
      "66 | 66\n",
      "70 | 70\n",
      "74 | 74\n",
      "58 | 58\n",
      "70 | 70\n",
      "80 | 80\n",
      "90 | 90\n",
      "80 | 80\n",
      "68 | 68\n",
      "32 | 32\n",
      "82 | 82\n",
      "68 | 68\n",
      "74 | 74\n",
      "46 | 46\n",
      "76 | 76\n",
      "86 | 86\n",
      "52 | 52\n",
      "96 | 96\n",
      "80 | 80\n",
      "80 | 80\n"
     ]
    }
   ],
   "source": [
    "# ---#20. From an arbitrary random list of numbers, only print the even numbers (Only doing the first 31)\n",
    "#|   (part of section 1 & 2 if you really think about it)\n",
    "# ---#21. Write a loop that prints the even numbers between 1 and 50.\n",
    "even_numbers = []\n",
    "count = 0\n",
    "for num in dataset['math score']:\n",
    "\tif num % 2 == 0:\n",
    "\t\teven_numbers.append(num)\n",
    "\t\tcount += 1\n",
    "\t\t#Only printing 31 to match the next loop\n",
    "\t\tif count == 31:\n",
    "\t\t\tbreak\n",
    "\n",
    "\n",
    "first_51_math_scores = []\n",
    "for score in dataset['math score'].iloc[:51]:\n",
    "\tif score % 2 == 0:\n",
    "\t\tfirst_51_math_scores.append(score)\n",
    "\n",
    "\t\t\n",
    "linked_scores = min(len(even_numbers), len(first_51_math_scores))\n",
    "\n",
    "for i in range(linked_scores):\n",
    "\tprint(f\"{even_numbers[i]} | {first_51_math_scores[i]}\")\n"
   ]
  },
  {
   "cell_type": "code",
   "execution_count": 32,
   "metadata": {},
   "outputs": [
    {
     "name": "stdout",
     "output_type": "stream",
     "text": [
      "The sumn of math scores for group A(79) is: 5190\n",
      "The sumn of math scores for group B(198) is: 12686\n",
      "The sumn of math scores for group C(323) is: 21160\n",
      "The sumn of math scores for group D(257) is: 17702\n",
      "The sumn of math scores for group E(143) is: 11072\n"
     ]
    }
   ],
   "source": [
    "#22. Write a loop that prints the sum of numbers from 1 to 100\n",
    "#    Altered the prompt a little. Instead it prints the sums from a LIST of 1 to 1000\n",
    "group_sums = dataset.groupby('race/ethnicity')['math score'].sum()\n",
    "\n",
    "group_size = dataset.groupby('race/ethnicity').size()\n",
    "\n",
    "for group, sum_score in group_sums.items():\n",
    "\tprint(f\"The sumn of math scores for {group}({group_size[group]}) is: {sum_score}\")\n"
   ]
  },
  {
   "cell_type": "code",
   "execution_count": 33,
   "metadata": {},
   "outputs": [
    {
     "name": "stdout",
     "output_type": "stream",
     "text": [
      "Fibonnaci nummber 1: 0\n",
      "Fibonnaci nummber 2: 1\n",
      "Fibonnaci nummber 3: 1\n",
      "Fibonnaci nummber 4: 2\n",
      "Fibonnaci nummber 5: 3\n",
      "Fibonnaci nummber 6: 5\n",
      "Fibonnaci nummber 7: 8\n",
      "Fibonnaci nummber 8: 13\n",
      "Fibonnaci nummber 9: 21\n",
      "Fibonnaci nummber 10: 34\n"
     ]
    }
   ],
   "source": [
    "#24. Generate the first 10 Fibonacci numbers using a loop.??? (filler question)\n",
    "fib1, fib2 = 0, 1\n",
    "count = 0\n",
    "\n",
    "print(f\"Fibonnaci nummber {count + 1}: {fib1}\")\n",
    "\n",
    "while count < 9:\n",
    "\tprint(f\"Fibonnaci nummber {count + 2}: {fib2}\")\n",
    "\tfib1, fib2 = fib2, fib1 + fib2\n",
    "\tcount += 1"
   ]
  },
  {
   "cell_type": "code",
   "execution_count": 34,
   "metadata": {},
   "outputs": [
    {
     "name": "stdout",
     "output_type": "stream",
     "text": [
      "(1)The product of numbers from 1 to 20 is: 2432902008176640000\n",
      "(2)The product of numbers from 1 to 20 is: 2432902008176640000\n"
     ]
    }
   ],
   "source": [
    "# ---#23. Write a loop that prints the product of numbers from 1 to 20. (filler question)\n",
    "#|   (part of section 2)\n",
    "# ---#23. Write a loop that prints the product of numbers from 1 to 20. (filler question)\n",
    "product = 1\n",
    "\n",
    "for number in range(1, 21):\n",
    "\tproduct *= number\n",
    "\n",
    "print(f\"(1)The product of numbers from 1 to 20 is: {product}\")\n",
    "\n",
    "#---------------------------------------------------------------------------------------#\n",
    "\n",
    "product = math.factorial(20)\n",
    "\n",
    "print(f\"(2)The product of numbers from 1 to 20 is: {product}\")"
   ]
  },
  {
   "cell_type": "code",
   "execution_count": 35,
   "metadata": {},
   "outputs": [
    {
     "name": "stdout",
     "output_type": "stream",
     "text": [
      "Is racecar a palindrome?: True\n",
      "Is gender a palindrome?: False\n",
      "Is race/ethnicity a palindrome?: False\n",
      "Is parental level of education a palindrome?: False\n",
      "Is lunch a palindrome?: False\n",
      "Is test preparation course a palindrome?: False\n",
      "Is math score a palindrome?: False\n",
      "Is reading score a palindrome?: False\n",
      "Is writing score a palindrome?: False\n"
     ]
    }
   ],
   "source": [
    "#25. Check if a string is a palindrome. (lowkey another filler question)\n",
    "def is_palindrome(string):\n",
    "\tstring = string.replace(' ', '').lower()\n",
    "\treturn string == string[::-1]\n",
    "\n",
    "sammple_string = \"racecar\"\n",
    "print(f\"Is {sammple_string} a palindrome?: {is_palindrome(sammple_string)}\")\n",
    "\n",
    "#Would've linked this to the dataset better if there were student names.\n",
    "for column_name in dataset.columns:\n",
    "\tprint(f\"Is {column_name} a palindrome?: {is_palindrome(column_name)}\")"
   ]
  },
  {
   "cell_type": "code",
   "execution_count": 36,
   "metadata": {},
   "outputs": [
    {
     "name": "stdout",
     "output_type": "stream",
     "text": [
      "The number of vowels in 'This is a string with vowels' is: 7\n",
      "Entry: female | Guess: female\n",
      "Entry: male | Guess: male\n",
      "Entry: female | Guess: female\n",
      "Entry: male | Guess: male\n",
      "Entry: female | Guess: female\n"
     ]
    }
   ],
   "source": [
    "#26. Count the vowels in a string. (I refuse to have another filler so I'm going to finesse this)\n",
    "def count_vowels(string):\n",
    "\tvowels = 'aeiou'\n",
    "\tcount = 0\n",
    "\tstring = string.lower()\n",
    "\tfor char in string:\n",
    "\t\tif char in vowels:\n",
    "\t\t\tcount += 1\n",
    "\treturn count\n",
    "\n",
    "example_string = \"This is a string with vowels\"\n",
    "print(f\"The number of vowels in '{example_string}' is: {count_vowels(example_string)}\")\n",
    "\n",
    "#If there's 3 vowels, then assume the entry is female. Otherwise assume it's male\"\n",
    "column_name = dataset.columns[0]\n",
    "first_5_gender = dataset[column_name].iloc[:5]\n",
    "\n",
    "def guess_gender(word):\n",
    "\tvowel_count = count_vowels(word)\n",
    "\treturn 'female' if vowel_count >= 3 else 'male'\n",
    "\n",
    "first_5_entries = dataset[column_name].iloc[:5]\n",
    "gender_guesses = [guess_gender(entry) for entry in first_5_entries]\n",
    "\n",
    "for original, guess in zip(first_5_entries, gender_guesses):\n",
    "\tprint(f\"Entry: {original} | Guess: {guess}\")"
   ]
  },
  {
   "cell_type": "markdown",
   "metadata": {},
   "source": [
    "Exercise: Data Anomaly Detection\n",
    "\n",
    "Objective: Write a Python function that identifies and returns any anomalies in a list of numbers. An anomaly is defined as a number that is more than two standard deviations away from the mean of the list.\n",
    "\n",
    "Instructions:\n",
    "\n",
    "Calculate the mean of the list.\n",
    "Calculate the standard deviation of the list.\n",
    "Iterate over the list to find any numbers that are more than two standard deviations away from the mean.\n",
    "Return a list of anomalies.\n",
    "\n",
    "Example Definition:\n",
    "\n",
    "def find_anomalies(data):\n",
    "    mean = sum(data) / len(data)\n",
    "    variance = sum([((x - mean) ** 2) for x in data]) / len(data)\n",
    "    std_deviation = variance ** 0.5\n",
    "    return [x for x in data if abs(x - mean) > 2 * std_deviation]\n",
    "\n",
    "Example Usage:\n",
    "\n",
    "data = [10, 12, 12, 13, 12, 11, 14, 13, 15, 102, 12, 14, 13, 12, 10, 11, 14]\n",
    "anomalies = find_anomalies(data)\n",
    "print(f\"Anomalies in the data: {anomalies}\")\n",
    "\n",
    "In my case I'd say to double check the reading scores for exceptionally high or low scores, but I guess that wouldn't make much sense if posted in the discussion without context."
   ]
  }
 ],
 "metadata": {
  "kernelspec": {
   "display_name": "Python 3 (ipykernel)",
   "language": "python",
   "name": "python3"
  },
  "language_info": {
   "codemirror_mode": {
    "name": "ipython",
    "version": 3
   },
   "file_extension": ".py",
   "mimetype": "text/x-python",
   "name": "python",
   "nbconvert_exporter": "python",
   "pygments_lexer": "ipython3",
   "version": "3.8.10"
  }
 },
 "nbformat": 4,
 "nbformat_minor": 2
}
